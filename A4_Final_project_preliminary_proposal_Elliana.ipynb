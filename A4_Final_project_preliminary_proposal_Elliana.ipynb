{
 "cells": [
  {
   "cell_type": "markdown",
   "id": "70bc59c4-64e5-4727-8730-b2bd612539ab",
   "metadata": {},
   "source": [
    "# A4 Final Project preliminary proposal"
   ]
  },
  {
   "cell_type": "markdown",
   "id": "555ffc72-7ad9-48d9-8330-a18aeaba3217",
   "metadata": {},
   "source": [
    "## Motivation and problem statement"
   ]
  },
  {
   "cell_type": "markdown",
   "id": "4445784e-4e96-4f76-bcd5-80d539006a9a",
   "metadata": {},
   "source": [
    "I plan to research abortion rates of various age groups across the United States and the access to/use contraceptives in these states. This is a highly relevant topic as our country deals with information regarding Roe vs. Wade. I am particularly interested in learning about how access to contraceptives impacted abortion rates and if the increase in access to contraceptives has impacted individual state rates of abortion. I also want to learn more in general about abortion because I want to have concrete data to explain why we should have abortion rights. I hope to research data that can support my arguments and share the information with others who may not be educated on the topic of abortion. \n",
    "\n",
    "Problem Statement: How do abortion rates and the number of pregnancies prevented by contraceptives differs across all 50 states and within different regions of the United States?"
   ]
  },
  {
   "cell_type": "markdown",
   "id": "4a8825bd-1972-485f-9c9c-33e01d378f69",
   "metadata": {},
   "source": [
    "## Data Selected for analysis"
   ]
  },
  {
   "cell_type": "markdown",
   "id": "a328d59e-7158-43cb-84ac-90d9f530fd8a",
   "metadata": {},
   "source": [
    "I plan to use a data set from Guttmacher Data Center because it provides information about abortion rates, contraceptives, and other information similar to these topics and allows me to manipulate the data to look at the exact information within each state. I can also choose which data to view specifically in a table, map, or CSV format. This [data set](https://data.guttmacher.org/states/table?state=AL+AK+AZ+AR+CA+CO+CT+DE+DC+FL+GA+HI+ID+IL+IN+IA+KS+KY+LA+ME+MD+MA+MI+MN+MS+MO+MT+NE+NV+NH+NJ+NM+NY+NC+ND+OH+OK+OR+PA+RI+SC+SD+TN+TX+UT+VT+VA+WA+WV+WI+WY&topics=65+282&dataset=data) includes information about abortion and contraceptive use across the 50 states within America in 2017. More specifically, it includes: rates by state of occurrence, percent change in abortion rates from 2014-2017, percent of women at risk of unintended pregnancy if using contraceptives, percent of women at risk of unintended pregnancy relying on female sterilization, percent of women at risk of unintended pregnancy relying on male sterilization, percent of women at risk of unintended pregnancy relying on male sterilization, percent of women at risk of unintended pregnancy relying on the IUD, percent of women at risk of unintended pregnancy relying on the pill, percent of women at risk of unintended pregnancy relying on other non-LARC hormonal methods, percent of women at risk of unintended pregnancy relying on condoms, percent of women at risk of unintended pregnancy relying on withdrawal, percent of women at risk of unintended pregnancy relying on other methods of contraception, and percent of women at risk of unintended pregnancy not using a contraceptive method. \n",
    "\n",
    "\n",
    "The following dataset specifically shows nationwide [abortion rates and numbers](https://data.guttmacher.org/states/table?state=AL+AK+AZ+AR+CA+CO+CT+DE+DC+FL+GA+HI+ID+IL+IN+IA+KS+KY+LA+ME+MD+MA+MI+MN+MS+MO+MT+NE+NV+NH+NJ+NM+NY+NC+ND+OH+OK+OR+PA+RI+SC+SD+TN+TX+UT+VT+VA+WA+WV+WI+WY&topics=65+66&dataset=data) in invidicual states. \n",
    "The second dataset used from Guttmacher is about [pregnancies and abortions averted](https://data.guttmacher.org/states/table?state=AL+AK+AZ+AR+CA+CO+CT+DE+DC+FL+GA+HI+ID+IL+IN+IA+KS+KY+LA+ME+MD+MA+MI+MN+MS+MO+MT+NE+NV+NH+NJ+NM+NY+NC+ND+OH+OK+OR+PA+RI+SC+SD+TN+TX+UT+VT+VA+WA+WV+WI+WY&dataset=data&topics=113) in 2016 across the United States."
   ]
  },
  {
   "cell_type": "markdown",
   "id": "40d7c7cd-27c4-4659-8e88-cd4f23d7ae0e",
   "metadata": {},
   "source": [
    "This data set is suitable for my research topic because it provides information about the individual states within America and includes information about other topics that could correlate to abortion rates. Since this is public data and is also anonymous, I do not see any possible ethical concerns at this time. The terms of conditions state that data may be used freely as long as Guttmacher is given proper attribution. For academic research, it states that I must “include a full citation for the published research as found in the “Sources” section below each data table, map, or figure on the Data Center Website.”The data is also protected under U.S. copyright laws. "
   ]
  },
  {
   "cell_type": "markdown",
   "id": "9de09520-ac34-4287-a31d-45a130e805ff",
   "metadata": {},
   "source": [
    "## Unknowns and dependencies"
   ]
  },
  {
   "cell_type": "markdown",
   "id": "e2efae8a-bbfe-45b1-b1a1-259421548d15",
   "metadata": {},
   "source": [
    "The data is from 2017,  meaning it is not an accurate representation of the statistics for 2022 and some of the changes that have been made due to changes in laws more recently. This being acknowledged, it is still an overview of the United States and is a good representation of the overall abortion statistics since contraceptives became more accessible. This data is already laid out in a CSV format, making it easier to use for a short-term project. Besides extracurricular commitments, I do not see any factors that would make this project challenging to complete. "
   ]
  },
  {
   "cell_type": "markdown",
   "id": "fd9f495c-9142-476b-8eab-76fa65124e01",
   "metadata": {},
   "source": [
    "## Feedback from colleagues"
   ]
  },
  {
   "cell_type": "markdown",
   "id": "d13e8d56-0969-4143-a49e-eb8c2b6bb662",
   "metadata": {},
   "source": [
    "Prerna thought the topic was interesting, and because I had not found an exact data set, they emphasized finding one in a CSV format to make it easier to work with. Audrey also mentioned that for my motivation, I should include how relevant the topic is to the current political climate."
   ]
  },
  {
   "cell_type": "markdown",
   "id": "20ec8462-80c9-4a6b-ae24-6b19f2e1339b",
   "metadata": {
    "jp-MarkdownHeadingCollapsed": true,
    "tags": []
   },
   "source": [
    "## Research Questions (or Hypotheses)\n",
    "\n",
    "**Research Q1: Does the rate of use of contraceptives affect rates of abortion in specific states?**\n",
    "\n",
    "Hypothesis 1: Higher use levels of contraceptives lead to lower abortion rates in a specific state.\n",
    "\n",
    "**Research Q2: Does the rate of abortion vary based on the region of the US a state is in?**\n",
    "\n",
    "Hypothesis 2: Rates of abortions are higher in states where abortion is more accepted (specifically the West Coast and Northeast region) because people are more comfortable and feel safer sharing the data.\n"
   ]
  },
  {
   "cell_type": "markdown",
   "id": "eef842ef-775b-4ba7-a98c-88888873dd61",
   "metadata": {},
   "source": [
    "## Background and/or Related Work\n",
    "\n",
    "There is a lot of research and background information about abortion due to the current situation with Roe vs. Wade. There is data regarding contraceptive rates and specific state-by-state pregnancy and abortion rates. All of the background information emphasizes the need for awareness of the issue of abortion and the impact state laws, access to safe abortion, access to effective birth control, and freedom over women’s bodies have on people in different areas of the United States. I designed this study to compare the connection between abortion rates and access to contraceptives and compare different areas of the United States. The information below shows that views and access to abortion and contraceptives vary drastically nationwide. \n",
    "\n",
    "One background information is that accessible birth control has decreased abortion rates. Although there has been an increase in abortion restrictions across the U.S., this was not the main driver for the decrease in abortion; instead, access to contraceptives seems to have lowered abortion and pregnancy rates.Click [here](https://www.plannedparenthood.org/about-us/newsroom/press-releases/planned-parenthood-record-low-abortion-rates-in-u-s-highlight-impact-of-access-to-birth-control) to read more. \n",
    "\n",
    "More specific data about access to contraceptives has also been researched and published on [Power to Decide](https://powertodecide.org/what-we-do/access/birth-control-access). A diagram shows the distribution of birth control and emphasizes that “19 million women live in contraception deserts”.\n",
    "\n",
    "There is also current information about the specific abortion laws in individual states, found through [Guttmacher](https://www.guttmacher.org/state-policy/explore/overview-abortion-laws).\n",
    "One of the more compelling highlights of information regarding specific state abortion laws was that “45 states allow individual health care providers to refuse to participate in an abortion. Forty-two states allow institutions to refuse to perform abortions, 16 of which limit refusal to private or religious institutions”. It is most concerning to read about states such as Alabama, where abortion is completely banned. This is drastically different from states such as California, where it is fully legal and even requires universities to give students abortion pills for free. More about the specifics for each state are written [here](https://worldpopulationreview.com/state-rankings/abortion-laws-by-state)."
   ]
  },
  {
   "cell_type": "markdown",
   "id": "8d08219b-6ceb-4ed6-ae52-fe1f4aa4358a",
   "metadata": {},
   "source": [
    "## Methodology\n",
    "\n",
    "I will gather data using the table provided in the dataset I have currently chosen. The table is divided into sections about individual contraceptive use rates and abortion rates for 50 states. \n",
    "\n",
    "R1: I will use bar charts to the abortion numbers and rates of each individual state for all 50 states.  I will then graph the number of pregnancies prevented in each individual states. Finally I will make a bar chart showing both abortion numbers and prevented pregnancies to compare the two values in each individual state. \n",
    "\n",
    "R2: I will use a bar chart that will show the different rates of abortion averaged from the states within a region for each region across the United States. The states for each region will be identified in the code before each of the individual bar charts. The chart will show what regions have the highest abortion rates.\n",
    "\n",
    "I will then use these visuals to concisely portray the results of my research questions during my mini-presentation. "
   ]
  },
  {
   "cell_type": "markdown",
   "id": "0cef7d0f-a1dd-441c-833d-43d7f3aa6eef",
   "metadata": {},
   "source": [
    "## Findings: \n",
    "\n",
    "* RQ1: The number of pregnancies averted from using contraceptives is higher in comparison to the number of abortions when observed overall across the United States for the majority of states. The values for the state with most pregnancies prevented is also signficantly higher ranging in the 300,000s versus the abortions which the highest range in the 100,000s.\n",
    "\n",
    "* RQ2: The pacific northwest and the northeast had the highest rates of abortion across the various regions of the United States.\n",
    "\n",
    "## Discussion/Implications: \n",
    "\n",
    "Research Q1 Discussion: The chart comparing abortion numbers and pregnancies averted demonstrates that contraceptives do help prevent unwanted pregnancies, which would, in turn, lead to more abortions if not averted. Contraceptive use correlates with successfully preventing abortions across the United States, with higher levels of prevented pregnancies in California and, more surprisingly, in Texas. I infer that contraceptive use for preventing pregnancies is higher in Texas than abortion numbers because abortion rates are not more likely not reported. However, the overall population is still quite large, creating a more significant number of using contraceptives. It was also interesting to see that contraceptive use for pregnancy prevention was not higher than abortion rates in New York, where it would be believed that more people have access to or are using contraceptives. A limitation in regards to these findings was that some states may have higher rates for who is reporting abortions rather than use contraceptives based on sensitives regarding the topic of abortion and the laws surrounding it. \n",
    "\n",
    "Research Q2 Discussion: I initially hypothesized that \"Rates of abortions are higher in states where abortion is more accepted (specifically the West Coast and Northeast region) because people are more comfortable and feel safer sharing the data.\" These regions did turn out to have the highest rates of abortion, and I can infer that this is because people are most comfortable reporting abortions and have higher access levels to abortion based on state laws read during background research. A more concrete reason is that these two regions have been placed with more liberal abortion laws and larger populations. Abortion is legal in all of the pacific region states and is legal at any stage in some of those states. California also has one of the largest populations, and the rate is still high, showing that many people have gotten an abortion compared to other places. New York is another place with a very large population in the northeast, meaning more people in a condensed area are getting abortions. The states in this region all allow for legal abortions, with the majority only allowing abortions up until 24 weeks, but some allowing abortions during the entire term of pregnancy. Again a limitation with this data could relate to the sensitivity of discussing or sharing abortion and how it is more accepeted in specific states and regions and therefore more documented.\n",
    "\n",
    "## Conclusion: \n",
    "\n",
    "In conclusion, contraceptive use correlates with successfully preventing abortions across the United States, with higher levels of prevented pregnancies in comparison to abortions for a majority of states. It is also interesting to see how more populated areas have better access to contraceptives. It is essential to continue researching and discussing abortion and contraceptives to give people in all areas of the country easy access to both medical options to decrease the number of abortions that must happen and women's safety. \n",
    "\n",
    "Concerning abortion rates specifically and my second research question, the rates across regions of the United States are highest in areas with large populations and legalized abortion. The laws and attitudes of individual states or regions of the United States impacts the abortion rates that are reported and that are allowed to openly occur.\n",
    "\n",
    "If this report were to be continued, I would compare the specific regions and attempt to map out the data on a state map.\n"
   ]
  },
  {
   "cell_type": "code",
   "execution_count": null,
   "id": "3a55679d-4bfb-4025-bfcb-060ac31fa700",
   "metadata": {},
   "outputs": [],
   "source": []
  }
 ],
 "metadata": {
  "kernelspec": {
   "display_name": "Python 3 (ipykernel)",
   "language": "python",
   "name": "python3"
  },
  "language_info": {
   "codemirror_mode": {
    "name": "ipython",
    "version": 3
   },
   "file_extension": ".py",
   "mimetype": "text/x-python",
   "name": "python",
   "nbconvert_exporter": "python",
   "pygments_lexer": "ipython3",
   "version": "3.9.7"
  }
 },
 "nbformat": 4,
 "nbformat_minor": 5
}
