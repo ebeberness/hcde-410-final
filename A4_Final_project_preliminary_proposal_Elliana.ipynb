{
 "cells": [
  {
   "cell_type": "markdown",
   "id": "70bc59c4-64e5-4727-8730-b2bd612539ab",
   "metadata": {},
   "source": [
    "# A4 Final Project preliminary proposal"
   ]
  },
  {
   "cell_type": "markdown",
   "id": "555ffc72-7ad9-48d9-8330-a18aeaba3217",
   "metadata": {},
   "source": [
    "## Motivation and problem statement"
   ]
  },
  {
   "cell_type": "markdown",
   "id": "4445784e-4e96-4f76-bcd5-80d539006a9a",
   "metadata": {},
   "source": [
    "I plan to research abortion rates of various age groups across the United States and the access to/use contraceptives in these states. This is a highly relevant topic as our country deals with information regarding Roe vs. Wade. I am particularly interested in learning about how access to contraceptives impacted abortion rates and if the increase in access to contraceptives has impacted individual state rates of abortion. I also want to learn more in general about abortion because I want to have concrete data to explain why we should have abortion rights. I hope to research data that can support my arguments and share the information with others who may not be educated on the topic of abortion. "
   ]
  },
  {
   "cell_type": "markdown",
   "id": "4a8825bd-1972-485f-9c9c-33e01d378f69",
   "metadata": {},
   "source": [
    "## Data Selected for analysis"
   ]
  },
  {
   "cell_type": "markdown",
   "id": "a328d59e-7158-43cb-84ac-90d9f530fd8a",
   "metadata": {},
   "source": [
    "I plan to use a data set from Guttmacher Data Center because it provides information about abortion rates, contraceptives, and other information similar to these topics and allows me to manipulate the data to look at the exact information within each state. I can also choose which data to view specifically in a table, map, or CSV format. This data set includes information about abortion and contraceptive use across the 50 states within America in 2017. More specifically, it includes: rates by state of occurrence, percent change in abortion rates from 2014-2017, percent of women at risk of unintended pregnancy if using contraceptives, percent of women at risk of unintended pregnancy relying on female sterilization, percent of women at risk of unintended pregnancy relying on male sterilization, percent of women at risk of unintended pregnancy relying on male sterilization, percent of women at risk of unintended pregnancy relying on the IUDpercent of women at risk of unintended pregnancy relying on the pill, percent of women at risk of unintended pregnancy relying on other non-LARC hormonal methods, percent of women at risk of unintended pregnancy relying on condoms, percent of women at risk of unintended pregnancy relying on withdrawal, percent of women at risk of unintended pregnancy relying on other methods of contraception, and percent of women at risk of unintended pregnancy not using a contraceptive method. The data set can be accessed [here](https://data.guttmacher.org/states/table?state=AL+AK+AZ+AR+CA+CO+CT+DE+DC+FL+GA+HI+ID+IL+IN+IA+KS+KY+LA+ME+MD+MA+MI+MN+MS+MO+MT+NE+NV+NH+NJ+NM+NY+NC+ND+OH+OK+OR+PA+RI+SC+SD+TN+TX+UT+VT+VA+WA+WV+WI+WY&topics=65+282&dataset=data). "
   ]
  },
  {
   "cell_type": "markdown",
   "id": "40d7c7cd-27c4-4659-8e88-cd4f23d7ae0e",
   "metadata": {},
   "source": [
    "This data set is suitable for my research topic because it provides information about the individual states within America and includes information about other topics that could correlate to abortion rates. Since this is public data and is also anonymous, I do not see any possible ethical concerns at this time. The terms of conditions state that data may be used freely as long as Guttmacher is given proper attribution. For academic research, it states that I must “include a full citation for the published research as found in the “Sources” section below each data table, map, or figure on the Data Center Website.”The data is also protected under U.S. copyright laws. "
   ]
  },
  {
   "cell_type": "markdown",
   "id": "9de09520-ac34-4287-a31d-45a130e805ff",
   "metadata": {},
   "source": [
    "## Unknowns and dependencies"
   ]
  },
  {
   "cell_type": "markdown",
   "id": "e2efae8a-bbfe-45b1-b1a1-259421548d15",
   "metadata": {},
   "source": [
    "The data is from 2017,  meaning it is not an accurate representation of the statistics for 2022 and some of the changes that have been made due to changes in laws more recently. This being acknowledged, it is still an overview of the United States and is a good representation of the overall abortion statistics since contraceptives became more accessible. This data is already laid out in a CSV format, making it easier to use for a short-term project. Besides extracurricular commitments, I do not see any factors that would make this project challenging to complete. "
   ]
  },
  {
   "cell_type": "markdown",
   "id": "fd9f495c-9142-476b-8eab-76fa65124e01",
   "metadata": {},
   "source": [
    "## Feedback from colleagues"
   ]
  },
  {
   "cell_type": "markdown",
   "id": "d13e8d56-0969-4143-a49e-eb8c2b6bb662",
   "metadata": {},
   "source": [
    "Prerna thought the topic was interesting, and because I had not found an exact data set, they emphasized finding one in a CSV format to make it easier to work with. Audrey also mentioned that for my motivation, I should include how relevant the topic is to the current political climate."
   ]
  },
  {
   "cell_type": "markdown",
   "id": "20ec8462-80c9-4a6b-ae24-6b19f2e1339b",
   "metadata": {},
   "source": [
    "## Research Questions (or Hypotheses)\n",
    "\n",
    "**Research Q1: Does the rate of use of contraceptives affect rates of abortion in specific states?**\n",
    "\n",
    "Hypothesis 1: Higher use levels of contraceptives lead to lower abortion rates in a specific state.\n",
    "\n",
    "**Research Q2: Does the rate of abortion vary based on the region of the US a state is in?**\n",
    "\n",
    "Hypothesis 2: Rates of abortions are higher in states where abortion is more accepted (specifically the West Coast and Northeast region) because people are more comfortable and feel safer sharing the data.\n"
   ]
  },
  {
   "cell_type": "markdown",
   "id": "eef842ef-775b-4ba7-a98c-88888873dd61",
   "metadata": {},
   "source": [
    "## Background and/or Related Work\n",
    "\n",
    "There is a lot of research and background information about abortion due to the current situation with Roe vs. Wade. There is data regarding contraceptive rates and specific state-by-state pregnancy and abortion rates. All of the background information emphasizes the need for awareness of the issue of abortion and the impact state laws, access to safe abortion, access to effective birth control, and freedom over women’s bodies have on people in different areas of the United States. I designed this study to compare the connection between abortion rates and access to contraceptives and compare different areas of the United States. The information below shows that views and access to abortion and contraceptives vary drastically nationwide. \n",
    "\n",
    "One background information is that accessible birth control has decreased abortion rates. Although there has been an increase in abortion restrictions across the U.S., this was not the main driver for the decrease in abortion; instead, access to contraceptives seems to have lowered abortion and pregnancy rates.Click [here](https://www.plannedparenthood.org/about-us/newsroom/press-releases/planned-parenthood-record-low-abortion-rates-in-u-s-highlight-impact-of-access-to-birth-control) to read more. \n",
    "\n",
    "More specific data about access to contraceptives has also been researched and published on [Power to Decide](https://powertodecide.org/what-we-do/access/birth-control-access). A diagram shows the distribution of birth control and emphasizes that “19 million women live in contraception deserts”.\n",
    "\n",
    "There is also current information about the specific abortion laws in individual states, found through [Guttmacher](https://www.guttmacher.org/state-policy/explore/overview-abortion-laws).\n",
    "One of the more compelling highlights of information regarding specific state abortion laws was that “45 states allow individual health care providers to refuse to participate in an abortion. Forty-two states allow institutions to refuse to perform abortions, 16 of which limit refusal to private or religious institutions”. It is most concerning to read about states such as Alabama, where abortion is completely banned. This is drastically different from states such as California, where it is fully legal and even requires universities to give students abortion pills for free. More about the specifics for each state are written [here](https://worldpopulationreview.com/state-rankings/abortion-laws-by-state)."
   ]
  },
  {
   "cell_type": "markdown",
   "id": "8d08219b-6ceb-4ed6-ae52-fe1f4aa4358a",
   "metadata": {},
   "source": [
    "## Methodology\n",
    "\n",
    "I will gather data using the table provided in the dataset I have currently chosen. The table is divided into sections about individual contraceptive use rates and abortion rates for 50 states. \n",
    "\n",
    "R1: I plan to use bar charts and an Ordinary Least Squares regression (OLS). The bar charts will convey the varying levels of pregnancy risk when contraceptives are used and are not used in each state. A chart for each different contraceptive can be created if time permits since the table already give the individual data for each type (types are mentioned in the dataset description). The OLS will show the correlation between contraceptives and abortion rates. A OLS for rates of risk for pregnancy using contraceptives and a OLS for rates of risk of pregnancy without contraceptives will be made.\n",
    "\n",
    "R2: A bar chart and possibly a geographically marked map to convey the data if time permits. The bar charts will show the different rates of abortion averages for each region across the United States. The geographically marked map will provide a solid visual aid for how abortion rates vary in the different regions of the United States.\n",
    "\n",
    "I will then use these visuals to concisely portray the results of my research questions during my mini-presentation. "
   ]
  },
  {
   "cell_type": "markdown",
   "id": "0cef7d0f-a1dd-441c-833d-43d7f3aa6eef",
   "metadata": {},
   "source": [
    "## Findings: \n",
    "\n",
    "R2: The rates of abortion are high\n",
    "\n",
    "## Discussion/Implications: \n",
    "\n",
    "## Conclusion: \n",
    "\n",
    "## References: "
   ]
  },
  {
   "cell_type": "code",
   "execution_count": null,
   "id": "3a55679d-4bfb-4025-bfcb-060ac31fa700",
   "metadata": {},
   "outputs": [],
   "source": []
  }
 ],
 "metadata": {
  "kernelspec": {
   "display_name": "Python 3 (ipykernel)",
   "language": "python",
   "name": "python3"
  },
  "language_info": {
   "codemirror_mode": {
    "name": "ipython",
    "version": 3
   },
   "file_extension": ".py",
   "mimetype": "text/x-python",
   "name": "python",
   "nbconvert_exporter": "python",
   "pygments_lexer": "ipython3",
   "version": "3.9.7"
  }
 },
 "nbformat": 4,
 "nbformat_minor": 5
}
