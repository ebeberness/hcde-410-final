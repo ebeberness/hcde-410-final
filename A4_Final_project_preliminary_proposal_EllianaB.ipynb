{
 "cells": [
  {
   "cell_type": "markdown",
   "id": "70bc59c4-64e5-4727-8730-b2bd612539ab",
   "metadata": {},
   "source": [
    "# A4 Final Project preliminary proposal"
   ]
  },
  {
   "cell_type": "markdown",
   "id": "555ffc72-7ad9-48d9-8330-a18aeaba3217",
   "metadata": {},
   "source": [
    "**Motivation and problem statement:**"
   ]
  },
  {
   "cell_type": "markdown",
   "id": "4445784e-4e96-4f76-bcd5-80d539006a9a",
   "metadata": {},
   "source": [
    "I plan to research abortion rates of various age groups across the United States and the access to/use of contraceptives in these states. I think that this is an extremely relevant topic as our country deals with the information regarding Roe vs. Wade. I am particular interested in learning about how access to contraceptives impacted abortion rates and if the increase in access to contraceptives has impacted individual state rates of abortion in any way. I also want to learn more in general about the topic of abortion because I want to have concrete data to use for explaining why we should have abortion rights. I hope to research data that can support my arguments and share the information with others who may not be educated on the topic of abortion. "
   ]
  },
  {
   "cell_type": "markdown",
   "id": "4a8825bd-1972-485f-9c9c-33e01d378f69",
   "metadata": {},
   "source": [
    "**Data Selected for analysis:**"
   ]
  },
  {
   "cell_type": "markdown",
   "id": "a328d59e-7158-43cb-84ac-90d9f530fd8a",
   "metadata": {},
   "source": [
    "I plan to use a data set from Guttmacher Data Center because it provided information about abortion rates, contracpetives, and other information similar to these topics and allows me to manipulate the data to look at the exact information within each individual state. I can also choose which data to specifcally view in table, map, or csv format. This data set includes information about abortion and contraceptive use across the 50 states within America in 2017. More specifically it includes rates by state of occurence, percent change in abortion rates from 2014-2017, percent of women at risk of unintended pregnancy if using contraceptives, percent of women at risk of unintended pregnancy relying on female sterilization, percent of women at risk of unintended pregnancy relying on male sterilization, percent of women at risk of unintended pregnancy relying on male sterilization, percent of women at risk of unintended pregnancy relying on the IUDpercent of women at risk of unintended pregnancy relying on the pill, percent of women at risk of unintended pregnancy relying on other non-LARC hormonal methods, percent of women at risk of unintended pregnancy relying on condoms, percent of women at risk of unintended pregnancy relying on withdrawal, percent of women at risk of unintended pregnancy relying on other methods of contraception, and percent of women at risk of unintended pregnancy not using a contraceptive method. The data set can be accessed [here](https://data.guttmacher.org/states/table?state=AL+AK+AZ+AR+CA+CO+CT+DE+DC+FL+GA+HI+ID+IL+IN+IA+KS+KY+LA+ME+MD+MA+MI+MN+MS+MO+MT+NE+NV+NH+NJ+NM+NY+NC+ND+OH+OK+OR+PA+RI+SC+SD+TN+TX+UT+VT+VA+WA+WV+WI+WY&topics=65+282&dataset=data). "
   ]
  },
  {
   "cell_type": "markdown",
   "id": "40d7c7cd-27c4-4659-8e88-cd4f23d7ae0e",
   "metadata": {},
   "source": [
    "This data set is suitable for my research topic because it provides information about the individual states within America and also includes information about other topics that could correlate to abortion rates. Since this is public data and from my research is also anonymous I do not see any possible ethical concerns at this time. The terms of conditions state that data may be used freely as long as Guttmacher is given proper attribution. For academic research, it states that I must “include full citation for the published research as found in the “Sources” section below each data table, map, or figure on the Data Center Website”.The data is also protected under U.S. copyright laws. "
   ]
  },
  {
   "cell_type": "markdown",
   "id": "9de09520-ac34-4287-a31d-45a130e805ff",
   "metadata": {},
   "source": [
    "**Unknowns and dependencies:**"
   ]
  },
  {
   "cell_type": "markdown",
   "id": "e2efae8a-bbfe-45b1-b1a1-259421548d15",
   "metadata": {},
   "source": [
    "This data is from 2017 which means it is not an accurate representation of what the statistics are for 2022 and some of the changes that have been made due to changed in laws more recently. This being acknowledged it is still an overview of the United States and is a good representation of overall abortion statistics since contraceptives became more accessible. This data is already layed out in a csv format making it easier to use for a short term project. Besides extracurricular commitments I do not see any factors that would make this project challenging to complete. "
   ]
  },
  {
   "cell_type": "markdown",
   "id": "fd9f495c-9142-476b-8eab-76fa65124e01",
   "metadata": {},
   "source": [
    "**Feedback from colleagues:**"
   ]
  },
  {
   "cell_type": "markdown",
   "id": "d13e8d56-0969-4143-a49e-eb8c2b6bb662",
   "metadata": {},
   "source": [
    "Prena thought the topic was interesting and because I had not found an exact data set they emphasized finding one in a csv format to make it easier to work with. Audrey also mentioned that for my motivation I should definitely include how relevant the topic is with the current political climate"
   ]
  },
  {
   "cell_type": "code",
   "execution_count": null,
   "id": "009d13eb-b016-4031-b887-b0e861df4d03",
   "metadata": {},
   "outputs": [],
   "source": []
  }
 ],
 "metadata": {
  "kernelspec": {
   "display_name": "Python 3 (ipykernel)",
   "language": "python",
   "name": "python3"
  },
  "language_info": {
   "codemirror_mode": {
    "name": "ipython",
    "version": 3
   },
   "file_extension": ".py",
   "mimetype": "text/x-python",
   "name": "python",
   "nbconvert_exporter": "python",
   "pygments_lexer": "ipython3",
   "version": "3.9.7"
  }
 },
 "nbformat": 4,
 "nbformat_minor": 5
}
